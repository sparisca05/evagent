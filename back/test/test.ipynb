{
 "cells": [
  {
   "cell_type": "code",
   "execution_count": 1,
   "id": "50fd2239",
   "metadata": {},
   "outputs": [
    {
     "name": "stdout",
     "output_type": "stream",
     "text": [
      "# User: '\n",
      "        Hola, ¿cómo estás?\n",
      "        Te daré la información completa de mi empresa a continuación:\n",
      "            Tengo una empresa dedicada al desarrollo de páginas web empresariales y de ecommerce.\n",
      "            Se llama Parcode.\n",
      "            Estamos buscando potenciales clientes que tengan un negocio en crecimiento y quieran expandirse en el mundo digital.\n",
      "        Aquí tienes la lista de URLs de Linkedin para analizar:\n",
      "        [\"https://www.linkedin.com/in/juanita-múnera24/\", \"https://www.linkedin.com/in/jacobo-zuluaga-jaramillo/\", \"https://www.linkedin.com/in/s4vitar/\"]\n",
      "        '\n",
      "# Agent - Eva: '¡Hola! Estoy aquí para ayudarte. \n",
      "\n",
      "He recopilado la información que proporcionaste sobre tu empresa. Aquí está la descripción resumida:\n",
      "\n",
      "**Nombre de la empresa:** Parcode  \n",
      "**Actividad:** Desarrollo de páginas web empresariales y de ecommerce  \n",
      "**Público objetivo:** Negocios en crecimiento que desean expandirse en el mundo digital.\n",
      "\n",
      "Si todo está correcto, considera que la descripción está completa. Si necesitas agregar algo más, no dudes en decírmelo.'\n",
      "# Agent - core: 'He analizado los perfiles de LinkedIn y aquí están los resultados:\n",
      "\n",
      "1. **Juanita Múnera Díaz**  \n",
      "   - **LinkedIn URL:** [Juanita Múnera](https://www.linkedin.com/in/juanita-múnera24/)  \n",
      "   - **Título:** Encargado de comunicaciones de marketing  \n",
      "   - **Empresa:** Eurocolegio Casvi Boadilla  \n",
      "   - **Industria:** Educación Primaria/Secundaria  \n",
      "   - **Duración en el puesto actual:** 6 meses  \n",
      "   - **Análisis:** Dada su posición y la industria en la que trabaja, no parece ser un cliente potencial que requiera servicios de desarrollo web para negocios en crecimiento.\n",
      "\n",
      "2. **Jacobo Zuluaga Jaramillo**  \n",
      "   - **LinkedIn URL:** [Jacobo Zuluaga](https://www.linkedin.com/in/jacobo-zuluaga-jaramillo/)  \n",
      "   - **Título:** Estudiante de Ingeniería de Software  \n",
      "   - **Análisis:** Actualmente es estudiante y no tiene un trabajo actual registrado, por lo que no es un cliente potencial en este momento.\n",
      "\n",
      "3. **Marcelo Vázquez (Aka. S4vitar)**  \n",
      "   - **LinkedIn URL:** [Marcelo Vázquez](https://www.linkedin.com/in/s4vitar/)  \n",
      "   - **Título:** CEO & Founder  \n",
      "   - **Empresa:** Hack4u  \n",
      "   - **Industria:** E-Learning  \n",
      "   - **Duración en el puesto actual:** 2 años  \n",
      "   - **Análisis:** Como CEO de una empresa en la industria de E-Learning, Marcelo es un cliente potencial significativo, ya que podría estar interesado en expandir su presencia digital.\n",
      "\n",
      "**Clientes Potenciales Identificados:**\n",
      "- [Marcelo Vázquez](https://www.linkedin.com/in/s4vitar/)\n",
      "\n",
      "Voy a proceder a redactar un correo para Marcelo. ¿Hay algún mensaje específico o información que te gustaría incluir en el correo?'\n",
      "# Agent - redactor: '{\n",
      "    \"email_body\": \"Estimado Marcelo,\\n\\nEspero que estés teniendo un excelente día. Mi nombre es [Tu Nombre] y soy parte del equipo de Parcode, una empresa dedicada al desarrollo de páginas web empresariales y de ecommerce.\\n\\nHe estado siguiendo el crecimiento de Hack4u y estoy impresionado con el impacto que estás teniendo en el sector de E-Learning. Con tu posición como CEO y Founder, estoy seguro de que comprendes la importancia de contar con una presencia digital sólida para captar la atención de potenciales clientes. En Parcode, nos especializamos en ayudar a empresas en crecimiento como la tuya a expandirse en el mundo digital mediante soluciones personalizadas que se alinean con tus objetivos de negocio.\\n\\nMe encantaría tener la oportunidad de hablar contigo y explorar cómo podemos colaborar para llevar a Hack4u al siguiente nivel. ¿Te gustaría agendar una llamada o un encuentro virtual?\\n\\nQuedo atento a tu respuesta.\\n\\nSaludos cordiales,\\n\\n[Tu Nombre]  \\n[Tus Datos de Contacto]  \\nParcode\"\n",
      "}'\n",
      "# IS COMPLETE: True\n"
     ]
    }
   ],
   "source": [
    "from agent_test import agent_data_processer, chat\n",
    "from semantic_kernel.contents import AuthorRole, ChatMessageContent\n",
    "\n",
    "async def test_agent():\n",
    "    input = \"\"\"\n",
    "        Hola, ¿cómo estás?\n",
    "        Te daré la información completa de mi empresa a continuación:\n",
    "            Tengo una empresa dedicada al desarrollo de páginas web empresariales y de ecommerce.\n",
    "            Se llama Parcode.\n",
    "            Estamos buscando potenciales clientes que tengan un negocio en crecimiento y quieran expandirse en el mundo digital.\n",
    "        Aquí tienes la lista de URLs de Linkedin para analizar:\n",
    "        [\"https://www.linkedin.com/in/juanita-múnera24/\", \"https://www.linkedin.com/in/jacobo-zuluaga-jaramillo/\", \"https://www.linkedin.com/in/s4vitar/\"]\n",
    "        \"\"\"\n",
    "    await chat.add_chat_message(ChatMessageContent(role=AuthorRole.USER, content=input))\n",
    "    print(f\"# User: '{input}'\")\n",
    "\n",
    "    async for content in chat.invoke():\n",
    "        print(f\"# Agent - {content.name or '*'}: '{content.content}'\")\n",
    "\n",
    "    print(f\"# IS COMPLETE: {chat.is_complete}\")\n",
    "await test_agent()"
   ]
  }
 ],
 "metadata": {
  "kernelspec": {
   "display_name": ".venv",
   "language": "python",
   "name": "python3"
  },
  "language_info": {
   "codemirror_mode": {
    "name": "ipython",
    "version": 3
   },
   "file_extension": ".py",
   "mimetype": "text/x-python",
   "name": "python",
   "nbconvert_exporter": "python",
   "pygments_lexer": "ipython3",
   "version": "3.11.5"
  }
 },
 "nbformat": 4,
 "nbformat_minor": 5
}
